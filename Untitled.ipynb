{
 "cells": [
  {
   "cell_type": "code",
   "execution_count": 6,
   "id": "b6182d95-b1ea-4033-8882-84716c486a02",
   "metadata": {},
   "outputs": [],
   "source": [
    "import numpy as np\n",
    "import pandas as pd"
   ]
  },
  {
   "cell_type": "code",
   "execution_count": 7,
   "id": "4a36ae7c-83fe-4799-8480-a82ce00ac460",
   "metadata": {},
   "outputs": [],
   "source": [
    "dict1 = {\n",
    "    \"name\":['priyanshu','rohan','sohan','skillf'],\n",
    "    \"marks\":[92, 34, 44, 54],\n",
    "    \"city\":['lucknow','delhi','kanpur','bareilly']\n",
    "}"
   ]
  },
  {
   "cell_type": "code",
   "execution_count": 8,
   "id": "fe21ee4f-3bfa-470c-9dff-95eaea87061b",
   "metadata": {},
   "outputs": [],
   "source": [
    "df = pd.DataFrame(dict1)"
   ]
  },
  {
   "cell_type": "code",
   "execution_count": 9,
   "id": "c903fea6-2a86-4ea7-802e-9b9bae0000eb",
   "metadata": {},
   "outputs": [
    {
     "data": {
      "text/html": [
       "<div>\n",
       "<style scoped>\n",
       "    .dataframe tbody tr th:only-of-type {\n",
       "        vertical-align: middle;\n",
       "    }\n",
       "\n",
       "    .dataframe tbody tr th {\n",
       "        vertical-align: top;\n",
       "    }\n",
       "\n",
       "    .dataframe thead th {\n",
       "        text-align: right;\n",
       "    }\n",
       "</style>\n",
       "<table border=\"1\" class=\"dataframe\">\n",
       "  <thead>\n",
       "    <tr style=\"text-align: right;\">\n",
       "      <th></th>\n",
       "      <th>name</th>\n",
       "      <th>marks</th>\n",
       "      <th>city</th>\n",
       "    </tr>\n",
       "  </thead>\n",
       "  <tbody>\n",
       "    <tr>\n",
       "      <th>0</th>\n",
       "      <td>priyanshu</td>\n",
       "      <td>92</td>\n",
       "      <td>lucknow</td>\n",
       "    </tr>\n",
       "    <tr>\n",
       "      <th>1</th>\n",
       "      <td>rohan</td>\n",
       "      <td>34</td>\n",
       "      <td>delhi</td>\n",
       "    </tr>\n",
       "    <tr>\n",
       "      <th>2</th>\n",
       "      <td>sohan</td>\n",
       "      <td>44</td>\n",
       "      <td>kanpur</td>\n",
       "    </tr>\n",
       "    <tr>\n",
       "      <th>3</th>\n",
       "      <td>skillf</td>\n",
       "      <td>54</td>\n",
       "      <td>bareilly</td>\n",
       "    </tr>\n",
       "  </tbody>\n",
       "</table>\n",
       "</div>"
      ],
      "text/plain": [
       "        name  marks      city\n",
       "0  priyanshu     92   lucknow\n",
       "1      rohan     34     delhi\n",
       "2      sohan     44    kanpur\n",
       "3     skillf     54  bareilly"
      ]
     },
     "execution_count": 9,
     "metadata": {},
     "output_type": "execute_result"
    }
   ],
   "source": [
    "df"
   ]
  },
  {
   "cell_type": "code",
   "execution_count": 10,
   "id": "97871ab7-6608-48eb-8f73-8ae3b6e5225b",
   "metadata": {},
   "outputs": [],
   "source": [
    "df.to_csv('friends.csv')"
   ]
  },
  {
   "cell_type": "code",
   "execution_count": 11,
   "id": "cb10fe21-e23a-4010-aa57-3a4e313f425a",
   "metadata": {},
   "outputs": [],
   "source": [
    "df.to_csv('friends_indexfalse.csv', index = False)"
   ]
  },
  {
   "cell_type": "code",
   "execution_count": 12,
   "id": "af920333-57d9-499f-8c64-a10766c287e0",
   "metadata": {},
   "outputs": [
    {
     "data": {
      "text/html": [
       "<div>\n",
       "<style scoped>\n",
       "    .dataframe tbody tr th:only-of-type {\n",
       "        vertical-align: middle;\n",
       "    }\n",
       "\n",
       "    .dataframe tbody tr th {\n",
       "        vertical-align: top;\n",
       "    }\n",
       "\n",
       "    .dataframe thead th {\n",
       "        text-align: right;\n",
       "    }\n",
       "</style>\n",
       "<table border=\"1\" class=\"dataframe\">\n",
       "  <thead>\n",
       "    <tr style=\"text-align: right;\">\n",
       "      <th></th>\n",
       "      <th>name</th>\n",
       "      <th>marks</th>\n",
       "      <th>city</th>\n",
       "    </tr>\n",
       "  </thead>\n",
       "  <tbody>\n",
       "    <tr>\n",
       "      <th>0</th>\n",
       "      <td>priyanshu</td>\n",
       "      <td>92</td>\n",
       "      <td>lucknow</td>\n",
       "    </tr>\n",
       "    <tr>\n",
       "      <th>1</th>\n",
       "      <td>rohan</td>\n",
       "      <td>34</td>\n",
       "      <td>delhi</td>\n",
       "    </tr>\n",
       "  </tbody>\n",
       "</table>\n",
       "</div>"
      ],
      "text/plain": [
       "        name  marks     city\n",
       "0  priyanshu     92  lucknow\n",
       "1      rohan     34    delhi"
      ]
     },
     "execution_count": 12,
     "metadata": {},
     "output_type": "execute_result"
    }
   ],
   "source": [
    "df.head(2)"
   ]
  },
  {
   "cell_type": "code",
   "execution_count": 13,
   "id": "c6c7176a-dc5c-4600-84fd-0855eff69d48",
   "metadata": {},
   "outputs": [
    {
     "data": {
      "text/html": [
       "<div>\n",
       "<style scoped>\n",
       "    .dataframe tbody tr th:only-of-type {\n",
       "        vertical-align: middle;\n",
       "    }\n",
       "\n",
       "    .dataframe tbody tr th {\n",
       "        vertical-align: top;\n",
       "    }\n",
       "\n",
       "    .dataframe thead th {\n",
       "        text-align: right;\n",
       "    }\n",
       "</style>\n",
       "<table border=\"1\" class=\"dataframe\">\n",
       "  <thead>\n",
       "    <tr style=\"text-align: right;\">\n",
       "      <th></th>\n",
       "      <th>name</th>\n",
       "      <th>marks</th>\n",
       "      <th>city</th>\n",
       "    </tr>\n",
       "  </thead>\n",
       "  <tbody>\n",
       "    <tr>\n",
       "      <th>1</th>\n",
       "      <td>rohan</td>\n",
       "      <td>34</td>\n",
       "      <td>delhi</td>\n",
       "    </tr>\n",
       "    <tr>\n",
       "      <th>2</th>\n",
       "      <td>sohan</td>\n",
       "      <td>44</td>\n",
       "      <td>kanpur</td>\n",
       "    </tr>\n",
       "    <tr>\n",
       "      <th>3</th>\n",
       "      <td>skillf</td>\n",
       "      <td>54</td>\n",
       "      <td>bareilly</td>\n",
       "    </tr>\n",
       "  </tbody>\n",
       "</table>\n",
       "</div>"
      ],
      "text/plain": [
       "     name  marks      city\n",
       "1   rohan     34     delhi\n",
       "2   sohan     44    kanpur\n",
       "3  skillf     54  bareilly"
      ]
     },
     "execution_count": 13,
     "metadata": {},
     "output_type": "execute_result"
    }
   ],
   "source": [
    "df.tail(3)"
   ]
  },
  {
   "cell_type": "code",
   "execution_count": 14,
   "id": "cdcab4fd-6418-4526-a87e-839579da7952",
   "metadata": {},
   "outputs": [
    {
     "data": {
      "text/html": [
       "<div>\n",
       "<style scoped>\n",
       "    .dataframe tbody tr th:only-of-type {\n",
       "        vertical-align: middle;\n",
       "    }\n",
       "\n",
       "    .dataframe tbody tr th {\n",
       "        vertical-align: top;\n",
       "    }\n",
       "\n",
       "    .dataframe thead th {\n",
       "        text-align: right;\n",
       "    }\n",
       "</style>\n",
       "<table border=\"1\" class=\"dataframe\">\n",
       "  <thead>\n",
       "    <tr style=\"text-align: right;\">\n",
       "      <th></th>\n",
       "      <th>marks</th>\n",
       "    </tr>\n",
       "  </thead>\n",
       "  <tbody>\n",
       "    <tr>\n",
       "      <th>count</th>\n",
       "      <td>4.000000</td>\n",
       "    </tr>\n",
       "    <tr>\n",
       "      <th>mean</th>\n",
       "      <td>56.000000</td>\n",
       "    </tr>\n",
       "    <tr>\n",
       "      <th>std</th>\n",
       "      <td>25.350871</td>\n",
       "    </tr>\n",
       "    <tr>\n",
       "      <th>min</th>\n",
       "      <td>34.000000</td>\n",
       "    </tr>\n",
       "    <tr>\n",
       "      <th>25%</th>\n",
       "      <td>41.500000</td>\n",
       "    </tr>\n",
       "    <tr>\n",
       "      <th>50%</th>\n",
       "      <td>49.000000</td>\n",
       "    </tr>\n",
       "    <tr>\n",
       "      <th>75%</th>\n",
       "      <td>63.500000</td>\n",
       "    </tr>\n",
       "    <tr>\n",
       "      <th>max</th>\n",
       "      <td>92.000000</td>\n",
       "    </tr>\n",
       "  </tbody>\n",
       "</table>\n",
       "</div>"
      ],
      "text/plain": [
       "           marks\n",
       "count   4.000000\n",
       "mean   56.000000\n",
       "std    25.350871\n",
       "min    34.000000\n",
       "25%    41.500000\n",
       "50%    49.000000\n",
       "75%    63.500000\n",
       "max    92.000000"
      ]
     },
     "execution_count": 14,
     "metadata": {},
     "output_type": "execute_result"
    }
   ],
   "source": [
    "df.describe()"
   ]
  },
  {
   "cell_type": "code",
   "execution_count": 15,
   "id": "3b7ab7c2-5066-4c34-b710-834e0ef45bc0",
   "metadata": {},
   "outputs": [
    {
     "data": {
      "text/html": [
       "<div>\n",
       "<style scoped>\n",
       "    .dataframe tbody tr th:only-of-type {\n",
       "        vertical-align: middle;\n",
       "    }\n",
       "\n",
       "    .dataframe tbody tr th {\n",
       "        vertical-align: top;\n",
       "    }\n",
       "\n",
       "    .dataframe thead th {\n",
       "        text-align: right;\n",
       "    }\n",
       "</style>\n",
       "<table border=\"1\" class=\"dataframe\">\n",
       "  <thead>\n",
       "    <tr style=\"text-align: right;\">\n",
       "      <th></th>\n",
       "      <th>name</th>\n",
       "      <th>marks</th>\n",
       "      <th>city</th>\n",
       "    </tr>\n",
       "  </thead>\n",
       "  <tbody>\n",
       "    <tr>\n",
       "      <th>count</th>\n",
       "      <td>4</td>\n",
       "      <td>4.000000</td>\n",
       "      <td>4</td>\n",
       "    </tr>\n",
       "    <tr>\n",
       "      <th>unique</th>\n",
       "      <td>4</td>\n",
       "      <td>NaN</td>\n",
       "      <td>4</td>\n",
       "    </tr>\n",
       "    <tr>\n",
       "      <th>top</th>\n",
       "      <td>priyanshu</td>\n",
       "      <td>NaN</td>\n",
       "      <td>lucknow</td>\n",
       "    </tr>\n",
       "    <tr>\n",
       "      <th>freq</th>\n",
       "      <td>1</td>\n",
       "      <td>NaN</td>\n",
       "      <td>1</td>\n",
       "    </tr>\n",
       "    <tr>\n",
       "      <th>mean</th>\n",
       "      <td>NaN</td>\n",
       "      <td>56.000000</td>\n",
       "      <td>NaN</td>\n",
       "    </tr>\n",
       "    <tr>\n",
       "      <th>std</th>\n",
       "      <td>NaN</td>\n",
       "      <td>25.350871</td>\n",
       "      <td>NaN</td>\n",
       "    </tr>\n",
       "    <tr>\n",
       "      <th>min</th>\n",
       "      <td>NaN</td>\n",
       "      <td>34.000000</td>\n",
       "      <td>NaN</td>\n",
       "    </tr>\n",
       "    <tr>\n",
       "      <th>25%</th>\n",
       "      <td>NaN</td>\n",
       "      <td>41.500000</td>\n",
       "      <td>NaN</td>\n",
       "    </tr>\n",
       "    <tr>\n",
       "      <th>50%</th>\n",
       "      <td>NaN</td>\n",
       "      <td>49.000000</td>\n",
       "      <td>NaN</td>\n",
       "    </tr>\n",
       "    <tr>\n",
       "      <th>75%</th>\n",
       "      <td>NaN</td>\n",
       "      <td>63.500000</td>\n",
       "      <td>NaN</td>\n",
       "    </tr>\n",
       "    <tr>\n",
       "      <th>max</th>\n",
       "      <td>NaN</td>\n",
       "      <td>92.000000</td>\n",
       "      <td>NaN</td>\n",
       "    </tr>\n",
       "  </tbody>\n",
       "</table>\n",
       "</div>"
      ],
      "text/plain": [
       "             name      marks     city\n",
       "count           4   4.000000        4\n",
       "unique          4        NaN        4\n",
       "top     priyanshu        NaN  lucknow\n",
       "freq            1        NaN        1\n",
       "mean          NaN  56.000000      NaN\n",
       "std           NaN  25.350871      NaN\n",
       "min           NaN  34.000000      NaN\n",
       "25%           NaN  41.500000      NaN\n",
       "50%           NaN  49.000000      NaN\n",
       "75%           NaN  63.500000      NaN\n",
       "max           NaN  92.000000      NaN"
      ]
     },
     "execution_count": 15,
     "metadata": {},
     "output_type": "execute_result"
    }
   ],
   "source": [
    "df.describe(include='all')"
   ]
  },
  {
   "cell_type": "code",
   "execution_count": 16,
   "id": "58378908-476b-4413-9f93-74a64a34e76d",
   "metadata": {},
   "outputs": [],
   "source": [
    "priyanshu = pd.read_csv('priyanshu.csv')"
   ]
  },
  {
   "cell_type": "code",
   "execution_count": 17,
   "id": "eb7e5bde-6aa3-4e17-a0cc-7036d8de44c6",
   "metadata": {},
   "outputs": [
    {
     "data": {
      "text/html": [
       "<div>\n",
       "<style scoped>\n",
       "    .dataframe tbody tr th:only-of-type {\n",
       "        vertical-align: middle;\n",
       "    }\n",
       "\n",
       "    .dataframe tbody tr th {\n",
       "        vertical-align: top;\n",
       "    }\n",
       "\n",
       "    .dataframe thead th {\n",
       "        text-align: right;\n",
       "    }\n",
       "</style>\n",
       "<table border=\"1\" class=\"dataframe\">\n",
       "  <thead>\n",
       "    <tr style=\"text-align: right;\">\n",
       "      <th></th>\n",
       "      <th>train_no</th>\n",
       "      <th>speed</th>\n",
       "      <th>city</th>\n",
       "    </tr>\n",
       "  </thead>\n",
       "  <tbody>\n",
       "    <tr>\n",
       "      <th>0</th>\n",
       "      <td>12344</td>\n",
       "      <td>125</td>\n",
       "      <td>lucknow</td>\n",
       "    </tr>\n",
       "    <tr>\n",
       "      <th>1</th>\n",
       "      <td>23444</td>\n",
       "      <td>344</td>\n",
       "      <td>delhi</td>\n",
       "    </tr>\n",
       "    <tr>\n",
       "      <th>2</th>\n",
       "      <td>23322</td>\n",
       "      <td>133</td>\n",
       "      <td>Gola Gokarnnath</td>\n",
       "    </tr>\n",
       "    <tr>\n",
       "      <th>3</th>\n",
       "      <td>2345</td>\n",
       "      <td>435</td>\n",
       "      <td>chennai</td>\n",
       "    </tr>\n",
       "  </tbody>\n",
       "</table>\n",
       "</div>"
      ],
      "text/plain": [
       "   train_no  speed             city\n",
       "0     12344    125          lucknow\n",
       "1     23444    344            delhi\n",
       "2     23322    133  Gola Gokarnnath\n",
       "3      2345    435          chennai"
      ]
     },
     "execution_count": 17,
     "metadata": {},
     "output_type": "execute_result"
    }
   ],
   "source": [
    "priyanshu"
   ]
  },
  {
   "cell_type": "code",
   "execution_count": 18,
   "id": "7062cc9f-d228-4eae-b41d-2672ccba335a",
   "metadata": {},
   "outputs": [
    {
     "data": {
      "text/html": [
       "<div>\n",
       "<style scoped>\n",
       "    .dataframe tbody tr th:only-of-type {\n",
       "        vertical-align: middle;\n",
       "    }\n",
       "\n",
       "    .dataframe tbody tr th {\n",
       "        vertical-align: top;\n",
       "    }\n",
       "\n",
       "    .dataframe thead th {\n",
       "        text-align: right;\n",
       "    }\n",
       "</style>\n",
       "<table border=\"1\" class=\"dataframe\">\n",
       "  <thead>\n",
       "    <tr style=\"text-align: right;\">\n",
       "      <th></th>\n",
       "      <th>train_no</th>\n",
       "      <th>speed</th>\n",
       "      <th>city</th>\n",
       "    </tr>\n",
       "  </thead>\n",
       "  <tbody>\n",
       "    <tr>\n",
       "      <th>0</th>\n",
       "      <td>12344</td>\n",
       "      <td>125</td>\n",
       "      <td>lucknow</td>\n",
       "    </tr>\n",
       "    <tr>\n",
       "      <th>1</th>\n",
       "      <td>23444</td>\n",
       "      <td>344</td>\n",
       "      <td>delhi</td>\n",
       "    </tr>\n",
       "    <tr>\n",
       "      <th>2</th>\n",
       "      <td>23322</td>\n",
       "      <td>133</td>\n",
       "      <td>Gola Gokarnnath</td>\n",
       "    </tr>\n",
       "  </tbody>\n",
       "</table>\n",
       "</div>"
      ],
      "text/plain": [
       "   train_no  speed             city\n",
       "0     12344    125          lucknow\n",
       "1     23444    344            delhi\n",
       "2     23322    133  Gola Gokarnnath"
      ]
     },
     "execution_count": 18,
     "metadata": {},
     "output_type": "execute_result"
    }
   ],
   "source": [
    "priyanshu.head(3)\n"
   ]
  },
  {
   "cell_type": "code",
   "execution_count": 19,
   "id": "2fa6715a-3526-4b28-81b2-826c83c46420",
   "metadata": {},
   "outputs": [
    {
     "data": {
      "text/html": [
       "<div>\n",
       "<style scoped>\n",
       "    .dataframe tbody tr th:only-of-type {\n",
       "        vertical-align: middle;\n",
       "    }\n",
       "\n",
       "    .dataframe tbody tr th {\n",
       "        vertical-align: top;\n",
       "    }\n",
       "\n",
       "    .dataframe thead th {\n",
       "        text-align: right;\n",
       "    }\n",
       "</style>\n",
       "<table border=\"1\" class=\"dataframe\">\n",
       "  <thead>\n",
       "    <tr style=\"text-align: right;\">\n",
       "      <th></th>\n",
       "      <th>train_no</th>\n",
       "      <th>speed</th>\n",
       "      <th>city</th>\n",
       "    </tr>\n",
       "  </thead>\n",
       "  <tbody>\n",
       "    <tr>\n",
       "      <th>2</th>\n",
       "      <td>23322</td>\n",
       "      <td>133</td>\n",
       "      <td>Gola Gokarnnath</td>\n",
       "    </tr>\n",
       "    <tr>\n",
       "      <th>3</th>\n",
       "      <td>2345</td>\n",
       "      <td>435</td>\n",
       "      <td>chennai</td>\n",
       "    </tr>\n",
       "  </tbody>\n",
       "</table>\n",
       "</div>"
      ],
      "text/plain": [
       "   train_no  speed             city\n",
       "2     23322    133  Gola Gokarnnath\n",
       "3      2345    435          chennai"
      ]
     },
     "execution_count": 19,
     "metadata": {},
     "output_type": "execute_result"
    }
   ],
   "source": [
    "priyanshu.tail(2)"
   ]
  },
  {
   "cell_type": "code",
   "execution_count": 20,
   "id": "deda0125-9b76-4479-bd14-22b1675870af",
   "metadata": {},
   "outputs": [
    {
     "data": {
      "text/html": [
       "<div>\n",
       "<style scoped>\n",
       "    .dataframe tbody tr th:only-of-type {\n",
       "        vertical-align: middle;\n",
       "    }\n",
       "\n",
       "    .dataframe tbody tr th {\n",
       "        vertical-align: top;\n",
       "    }\n",
       "\n",
       "    .dataframe thead th {\n",
       "        text-align: right;\n",
       "    }\n",
       "</style>\n",
       "<table border=\"1\" class=\"dataframe\">\n",
       "  <thead>\n",
       "    <tr style=\"text-align: right;\">\n",
       "      <th></th>\n",
       "      <th>train_no</th>\n",
       "      <th>speed</th>\n",
       "    </tr>\n",
       "  </thead>\n",
       "  <tbody>\n",
       "    <tr>\n",
       "      <th>count</th>\n",
       "      <td>4.000000</td>\n",
       "      <td>4.000000</td>\n",
       "    </tr>\n",
       "    <tr>\n",
       "      <th>mean</th>\n",
       "      <td>15363.750000</td>\n",
       "      <td>259.250000</td>\n",
       "    </tr>\n",
       "    <tr>\n",
       "      <th>std</th>\n",
       "      <td>10119.797836</td>\n",
       "      <td>154.954563</td>\n",
       "    </tr>\n",
       "    <tr>\n",
       "      <th>min</th>\n",
       "      <td>2345.000000</td>\n",
       "      <td>125.000000</td>\n",
       "    </tr>\n",
       "    <tr>\n",
       "      <th>25%</th>\n",
       "      <td>9844.250000</td>\n",
       "      <td>131.000000</td>\n",
       "    </tr>\n",
       "    <tr>\n",
       "      <th>50%</th>\n",
       "      <td>17833.000000</td>\n",
       "      <td>238.500000</td>\n",
       "    </tr>\n",
       "    <tr>\n",
       "      <th>75%</th>\n",
       "      <td>23352.500000</td>\n",
       "      <td>366.750000</td>\n",
       "    </tr>\n",
       "    <tr>\n",
       "      <th>max</th>\n",
       "      <td>23444.000000</td>\n",
       "      <td>435.000000</td>\n",
       "    </tr>\n",
       "  </tbody>\n",
       "</table>\n",
       "</div>"
      ],
      "text/plain": [
       "           train_no       speed\n",
       "count      4.000000    4.000000\n",
       "mean   15363.750000  259.250000\n",
       "std    10119.797836  154.954563\n",
       "min     2345.000000  125.000000\n",
       "25%     9844.250000  131.000000\n",
       "50%    17833.000000  238.500000\n",
       "75%    23352.500000  366.750000\n",
       "max    23444.000000  435.000000"
      ]
     },
     "execution_count": 20,
     "metadata": {},
     "output_type": "execute_result"
    }
   ],
   "source": [
    "priyanshu.describe()"
   ]
  },
  {
   "cell_type": "code",
   "execution_count": 21,
   "id": "a4f8a3e2-a786-4666-9a81-59b80a8199dd",
   "metadata": {},
   "outputs": [
    {
     "data": {
      "text/html": [
       "<div>\n",
       "<style scoped>\n",
       "    .dataframe tbody tr th:only-of-type {\n",
       "        vertical-align: middle;\n",
       "    }\n",
       "\n",
       "    .dataframe tbody tr th {\n",
       "        vertical-align: top;\n",
       "    }\n",
       "\n",
       "    .dataframe thead th {\n",
       "        text-align: right;\n",
       "    }\n",
       "</style>\n",
       "<table border=\"1\" class=\"dataframe\">\n",
       "  <thead>\n",
       "    <tr style=\"text-align: right;\">\n",
       "      <th></th>\n",
       "      <th>train_no</th>\n",
       "      <th>speed</th>\n",
       "      <th>city</th>\n",
       "    </tr>\n",
       "  </thead>\n",
       "  <tbody>\n",
       "    <tr>\n",
       "      <th>count</th>\n",
       "      <td>4.000000</td>\n",
       "      <td>4.000000</td>\n",
       "      <td>4</td>\n",
       "    </tr>\n",
       "    <tr>\n",
       "      <th>unique</th>\n",
       "      <td>NaN</td>\n",
       "      <td>NaN</td>\n",
       "      <td>4</td>\n",
       "    </tr>\n",
       "    <tr>\n",
       "      <th>top</th>\n",
       "      <td>NaN</td>\n",
       "      <td>NaN</td>\n",
       "      <td>lucknow</td>\n",
       "    </tr>\n",
       "    <tr>\n",
       "      <th>freq</th>\n",
       "      <td>NaN</td>\n",
       "      <td>NaN</td>\n",
       "      <td>1</td>\n",
       "    </tr>\n",
       "    <tr>\n",
       "      <th>mean</th>\n",
       "      <td>15363.750000</td>\n",
       "      <td>259.250000</td>\n",
       "      <td>NaN</td>\n",
       "    </tr>\n",
       "    <tr>\n",
       "      <th>std</th>\n",
       "      <td>10119.797836</td>\n",
       "      <td>154.954563</td>\n",
       "      <td>NaN</td>\n",
       "    </tr>\n",
       "    <tr>\n",
       "      <th>min</th>\n",
       "      <td>2345.000000</td>\n",
       "      <td>125.000000</td>\n",
       "      <td>NaN</td>\n",
       "    </tr>\n",
       "    <tr>\n",
       "      <th>25%</th>\n",
       "      <td>9844.250000</td>\n",
       "      <td>131.000000</td>\n",
       "      <td>NaN</td>\n",
       "    </tr>\n",
       "    <tr>\n",
       "      <th>50%</th>\n",
       "      <td>17833.000000</td>\n",
       "      <td>238.500000</td>\n",
       "      <td>NaN</td>\n",
       "    </tr>\n",
       "    <tr>\n",
       "      <th>75%</th>\n",
       "      <td>23352.500000</td>\n",
       "      <td>366.750000</td>\n",
       "      <td>NaN</td>\n",
       "    </tr>\n",
       "    <tr>\n",
       "      <th>max</th>\n",
       "      <td>23444.000000</td>\n",
       "      <td>435.000000</td>\n",
       "      <td>NaN</td>\n",
       "    </tr>\n",
       "  </tbody>\n",
       "</table>\n",
       "</div>"
      ],
      "text/plain": [
       "            train_no       speed     city\n",
       "count       4.000000    4.000000        4\n",
       "unique           NaN         NaN        4\n",
       "top              NaN         NaN  lucknow\n",
       "freq             NaN         NaN        1\n",
       "mean    15363.750000  259.250000      NaN\n",
       "std     10119.797836  154.954563      NaN\n",
       "min      2345.000000  125.000000      NaN\n",
       "25%      9844.250000  131.000000      NaN\n",
       "50%     17833.000000  238.500000      NaN\n",
       "75%     23352.500000  366.750000      NaN\n",
       "max     23444.000000  435.000000      NaN"
      ]
     },
     "execution_count": 21,
     "metadata": {},
     "output_type": "execute_result"
    }
   ],
   "source": [
    "priyanshu.describe(include='all')"
   ]
  },
  {
   "cell_type": "code",
   "execution_count": 22,
   "id": "4d457625-e22d-4976-ac16-2ee59ebd3c77",
   "metadata": {},
   "outputs": [
    {
     "name": "stderr",
     "output_type": "stream",
     "text": [
      "C:\\Users\\verma\\AppData\\Local\\Temp\\ipykernel_8896\\2568459189.py:1: FutureWarning: ChainedAssignmentError: behaviour will change in pandas 3.0!\n",
      "You are setting values through chained assignment. Currently this works in certain cases, but when using Copy-on-Write (which will become the default behaviour in pandas 3.0) this will never work to update the original DataFrame or Series, because the intermediate object on which we are setting values will behave as a copy.\n",
      "A typical example is when you are setting values in a column of a DataFrame, like:\n",
      "\n",
      "df[\"col\"][row_indexer] = value\n",
      "\n",
      "Use `df.loc[row_indexer, \"col\"] = values` instead, to perform the assignment in a single step and ensure this keeps updating the original `df`.\n",
      "\n",
      "See the caveats in the documentation: https://pandas.pydata.org/pandas-docs/stable/user_guide/indexing.html#returning-a-view-versus-a-copy\n",
      "\n",
      "  priyanshu['speed'][0]= 125\n",
      "C:\\Users\\verma\\AppData\\Local\\Temp\\ipykernel_8896\\2568459189.py:1: SettingWithCopyWarning: \n",
      "A value is trying to be set on a copy of a slice from a DataFrame\n",
      "\n",
      "See the caveats in the documentation: https://pandas.pydata.org/pandas-docs/stable/user_guide/indexing.html#returning-a-view-versus-a-copy\n",
      "  priyanshu['speed'][0]= 125\n"
     ]
    }
   ],
   "source": [
    "priyanshu['speed'][0]= 125"
   ]
  },
  {
   "cell_type": "code",
   "execution_count": 23,
   "id": "68966498-6eae-4b20-af58-bce56f71377f",
   "metadata": {},
   "outputs": [
    {
     "data": {
      "text/html": [
       "<div>\n",
       "<style scoped>\n",
       "    .dataframe tbody tr th:only-of-type {\n",
       "        vertical-align: middle;\n",
       "    }\n",
       "\n",
       "    .dataframe tbody tr th {\n",
       "        vertical-align: top;\n",
       "    }\n",
       "\n",
       "    .dataframe thead th {\n",
       "        text-align: right;\n",
       "    }\n",
       "</style>\n",
       "<table border=\"1\" class=\"dataframe\">\n",
       "  <thead>\n",
       "    <tr style=\"text-align: right;\">\n",
       "      <th></th>\n",
       "      <th>train_no</th>\n",
       "      <th>speed</th>\n",
       "      <th>city</th>\n",
       "    </tr>\n",
       "  </thead>\n",
       "  <tbody>\n",
       "    <tr>\n",
       "      <th>0</th>\n",
       "      <td>12344</td>\n",
       "      <td>125</td>\n",
       "      <td>lucknow</td>\n",
       "    </tr>\n",
       "    <tr>\n",
       "      <th>1</th>\n",
       "      <td>23444</td>\n",
       "      <td>344</td>\n",
       "      <td>delhi</td>\n",
       "    </tr>\n",
       "    <tr>\n",
       "      <th>2</th>\n",
       "      <td>23322</td>\n",
       "      <td>133</td>\n",
       "      <td>Gola Gokarnnath</td>\n",
       "    </tr>\n",
       "    <tr>\n",
       "      <th>3</th>\n",
       "      <td>2345</td>\n",
       "      <td>435</td>\n",
       "      <td>chennai</td>\n",
       "    </tr>\n",
       "  </tbody>\n",
       "</table>\n",
       "</div>"
      ],
      "text/plain": [
       "   train_no  speed             city\n",
       "0     12344    125          lucknow\n",
       "1     23444    344            delhi\n",
       "2     23322    133  Gola Gokarnnath\n",
       "3      2345    435          chennai"
      ]
     },
     "execution_count": 23,
     "metadata": {},
     "output_type": "execute_result"
    }
   ],
   "source": [
    "priyanshu"
   ]
  },
  {
   "cell_type": "code",
   "execution_count": 24,
   "id": "6feed60d-63a2-49ec-af80-c5c8881c46ce",
   "metadata": {},
   "outputs": [],
   "source": [
    "priyanshu.to_csv(\"priyanshu.csv\",index = False)"
   ]
  },
  {
   "cell_type": "code",
   "execution_count": 25,
   "id": "2bbf0b56-f2fb-4106-8507-ed6a36fdd98d",
   "metadata": {},
   "outputs": [
    {
     "name": "stderr",
     "output_type": "stream",
     "text": [
      "C:\\Users\\verma\\AppData\\Local\\Temp\\ipykernel_8896\\1859741309.py:1: FutureWarning: ChainedAssignmentError: behaviour will change in pandas 3.0!\n",
      "You are setting values through chained assignment. Currently this works in certain cases, but when using Copy-on-Write (which will become the default behaviour in pandas 3.0) this will never work to update the original DataFrame or Series, because the intermediate object on which we are setting values will behave as a copy.\n",
      "A typical example is when you are setting values in a column of a DataFrame, like:\n",
      "\n",
      "df[\"col\"][row_indexer] = value\n",
      "\n",
      "Use `df.loc[row_indexer, \"col\"] = values` instead, to perform the assignment in a single step and ensure this keeps updating the original `df`.\n",
      "\n",
      "See the caveats in the documentation: https://pandas.pydata.org/pandas-docs/stable/user_guide/indexing.html#returning-a-view-versus-a-copy\n",
      "\n",
      "  priyanshu['city'][2] = \"Gola Gokarnnath\"\n",
      "C:\\Users\\verma\\AppData\\Local\\Temp\\ipykernel_8896\\1859741309.py:1: SettingWithCopyWarning: \n",
      "A value is trying to be set on a copy of a slice from a DataFrame\n",
      "\n",
      "See the caveats in the documentation: https://pandas.pydata.org/pandas-docs/stable/user_guide/indexing.html#returning-a-view-versus-a-copy\n",
      "  priyanshu['city'][2] = \"Gola Gokarnnath\"\n"
     ]
    }
   ],
   "source": [
    "priyanshu['city'][2] = \"Gola Gokarnnath\""
   ]
  },
  {
   "cell_type": "code",
   "execution_count": 26,
   "id": "b5ef0653-b077-4600-bca5-da6dffa3fdfc",
   "metadata": {},
   "outputs": [
    {
     "data": {
      "text/html": [
       "<div>\n",
       "<style scoped>\n",
       "    .dataframe tbody tr th:only-of-type {\n",
       "        vertical-align: middle;\n",
       "    }\n",
       "\n",
       "    .dataframe tbody tr th {\n",
       "        vertical-align: top;\n",
       "    }\n",
       "\n",
       "    .dataframe thead th {\n",
       "        text-align: right;\n",
       "    }\n",
       "</style>\n",
       "<table border=\"1\" class=\"dataframe\">\n",
       "  <thead>\n",
       "    <tr style=\"text-align: right;\">\n",
       "      <th></th>\n",
       "      <th>train_no</th>\n",
       "      <th>speed</th>\n",
       "      <th>city</th>\n",
       "    </tr>\n",
       "  </thead>\n",
       "  <tbody>\n",
       "    <tr>\n",
       "      <th>0</th>\n",
       "      <td>12344</td>\n",
       "      <td>125</td>\n",
       "      <td>lucknow</td>\n",
       "    </tr>\n",
       "    <tr>\n",
       "      <th>1</th>\n",
       "      <td>23444</td>\n",
       "      <td>344</td>\n",
       "      <td>delhi</td>\n",
       "    </tr>\n",
       "    <tr>\n",
       "      <th>2</th>\n",
       "      <td>23322</td>\n",
       "      <td>133</td>\n",
       "      <td>Gola Gokarnnath</td>\n",
       "    </tr>\n",
       "    <tr>\n",
       "      <th>3</th>\n",
       "      <td>2345</td>\n",
       "      <td>435</td>\n",
       "      <td>chennai</td>\n",
       "    </tr>\n",
       "  </tbody>\n",
       "</table>\n",
       "</div>"
      ],
      "text/plain": [
       "   train_no  speed             city\n",
       "0     12344    125          lucknow\n",
       "1     23444    344            delhi\n",
       "2     23322    133  Gola Gokarnnath\n",
       "3      2345    435          chennai"
      ]
     },
     "execution_count": 26,
     "metadata": {},
     "output_type": "execute_result"
    }
   ],
   "source": [
    "priyanshu"
   ]
  },
  {
   "cell_type": "code",
   "execution_count": 27,
   "id": "82fd6a9b-6fd3-411b-bad8-0c27e1fac4ac",
   "metadata": {},
   "outputs": [],
   "source": [
    "priyanshu.to_csv(\"priyanshu.csv\",index = False)"
   ]
  },
  {
   "cell_type": "code",
   "execution_count": 28,
   "id": "b18b0f57-0f60-4865-af31-7f0607ae06e2",
   "metadata": {},
   "outputs": [
    {
     "data": {
      "text/html": [
       "<div>\n",
       "<style scoped>\n",
       "    .dataframe tbody tr th:only-of-type {\n",
       "        vertical-align: middle;\n",
       "    }\n",
       "\n",
       "    .dataframe tbody tr th {\n",
       "        vertical-align: top;\n",
       "    }\n",
       "\n",
       "    .dataframe thead th {\n",
       "        text-align: right;\n",
       "    }\n",
       "</style>\n",
       "<table border=\"1\" class=\"dataframe\">\n",
       "  <thead>\n",
       "    <tr style=\"text-align: right;\">\n",
       "      <th></th>\n",
       "      <th>train_no</th>\n",
       "      <th>speed</th>\n",
       "      <th>city</th>\n",
       "    </tr>\n",
       "  </thead>\n",
       "  <tbody>\n",
       "    <tr>\n",
       "      <th>0</th>\n",
       "      <td>12344</td>\n",
       "      <td>125</td>\n",
       "      <td>lucknow</td>\n",
       "    </tr>\n",
       "    <tr>\n",
       "      <th>1</th>\n",
       "      <td>23444</td>\n",
       "      <td>344</td>\n",
       "      <td>delhi</td>\n",
       "    </tr>\n",
       "    <tr>\n",
       "      <th>2</th>\n",
       "      <td>23322</td>\n",
       "      <td>133</td>\n",
       "      <td>Gola Gokarnnath</td>\n",
       "    </tr>\n",
       "    <tr>\n",
       "      <th>3</th>\n",
       "      <td>2345</td>\n",
       "      <td>435</td>\n",
       "      <td>chennai</td>\n",
       "    </tr>\n",
       "  </tbody>\n",
       "</table>\n",
       "</div>"
      ],
      "text/plain": [
       "   train_no  speed             city\n",
       "0     12344    125          lucknow\n",
       "1     23444    344            delhi\n",
       "2     23322    133  Gola Gokarnnath\n",
       "3      2345    435          chennai"
      ]
     },
     "execution_count": 28,
     "metadata": {},
     "output_type": "execute_result"
    }
   ],
   "source": [
    "priyanshu"
   ]
  },
  {
   "cell_type": "code",
   "execution_count": 29,
   "id": "08abc5c1-41b2-43aa-bd5e-8c0bff576936",
   "metadata": {},
   "outputs": [],
   "source": [
    "priyanshu.index = ['first', 'second','third','fourth']"
   ]
  },
  {
   "cell_type": "code",
   "execution_count": 30,
   "id": "193b8207-1075-4ee8-9446-78a5eb4241d9",
   "metadata": {},
   "outputs": [
    {
     "data": {
      "text/html": [
       "<div>\n",
       "<style scoped>\n",
       "    .dataframe tbody tr th:only-of-type {\n",
       "        vertical-align: middle;\n",
       "    }\n",
       "\n",
       "    .dataframe tbody tr th {\n",
       "        vertical-align: top;\n",
       "    }\n",
       "\n",
       "    .dataframe thead th {\n",
       "        text-align: right;\n",
       "    }\n",
       "</style>\n",
       "<table border=\"1\" class=\"dataframe\">\n",
       "  <thead>\n",
       "    <tr style=\"text-align: right;\">\n",
       "      <th></th>\n",
       "      <th>train_no</th>\n",
       "      <th>speed</th>\n",
       "      <th>city</th>\n",
       "    </tr>\n",
       "  </thead>\n",
       "  <tbody>\n",
       "    <tr>\n",
       "      <th>first</th>\n",
       "      <td>12344</td>\n",
       "      <td>125</td>\n",
       "      <td>lucknow</td>\n",
       "    </tr>\n",
       "    <tr>\n",
       "      <th>second</th>\n",
       "      <td>23444</td>\n",
       "      <td>344</td>\n",
       "      <td>delhi</td>\n",
       "    </tr>\n",
       "    <tr>\n",
       "      <th>third</th>\n",
       "      <td>23322</td>\n",
       "      <td>133</td>\n",
       "      <td>Gola Gokarnnath</td>\n",
       "    </tr>\n",
       "    <tr>\n",
       "      <th>fourth</th>\n",
       "      <td>2345</td>\n",
       "      <td>435</td>\n",
       "      <td>chennai</td>\n",
       "    </tr>\n",
       "  </tbody>\n",
       "</table>\n",
       "</div>"
      ],
      "text/plain": [
       "        train_no  speed             city\n",
       "first      12344    125          lucknow\n",
       "second     23444    344            delhi\n",
       "third      23322    133  Gola Gokarnnath\n",
       "fourth      2345    435          chennai"
      ]
     },
     "execution_count": 30,
     "metadata": {},
     "output_type": "execute_result"
    }
   ],
   "source": [
    "priyanshu"
   ]
  },
  {
   "cell_type": "code",
   "execution_count": 31,
   "id": "c93ffd95-328b-450b-8352-8953bf6bf804",
   "metadata": {},
   "outputs": [],
   "source": [
    "ser = pd.Series(np.random.rand(22))"
   ]
  },
  {
   "cell_type": "code",
   "execution_count": 32,
   "id": "0aeec6a4-24a3-48f7-83ca-1faed819245e",
   "metadata": {},
   "outputs": [
    {
     "data": {
      "text/plain": [
       "pandas.core.series.Series"
      ]
     },
     "execution_count": 32,
     "metadata": {},
     "output_type": "execute_result"
    }
   ],
   "source": [
    "type(ser)"
   ]
  },
  {
   "cell_type": "code",
   "execution_count": 33,
   "id": "5be219b0-8c16-4c54-b528-4be2d6cdea62",
   "metadata": {},
   "outputs": [],
   "source": [
    "newdf = pd.DataFrame(np.random.rand(334,5), index = np.arange(334))"
   ]
  },
  {
   "cell_type": "code",
   "execution_count": 34,
   "id": "b7e921da-3d4f-4e48-8875-16bd090fddae",
   "metadata": {},
   "outputs": [
    {
     "data": {
      "text/html": [
       "<div>\n",
       "<style scoped>\n",
       "    .dataframe tbody tr th:only-of-type {\n",
       "        vertical-align: middle;\n",
       "    }\n",
       "\n",
       "    .dataframe tbody tr th {\n",
       "        vertical-align: top;\n",
       "    }\n",
       "\n",
       "    .dataframe thead th {\n",
       "        text-align: right;\n",
       "    }\n",
       "</style>\n",
       "<table border=\"1\" class=\"dataframe\">\n",
       "  <thead>\n",
       "    <tr style=\"text-align: right;\">\n",
       "      <th></th>\n",
       "      <th>0</th>\n",
       "      <th>1</th>\n",
       "      <th>2</th>\n",
       "      <th>3</th>\n",
       "      <th>4</th>\n",
       "    </tr>\n",
       "  </thead>\n",
       "  <tbody>\n",
       "    <tr>\n",
       "      <th>0</th>\n",
       "      <td>0.753924</td>\n",
       "      <td>0.337627</td>\n",
       "      <td>0.494060</td>\n",
       "      <td>0.523363</td>\n",
       "      <td>0.232386</td>\n",
       "    </tr>\n",
       "    <tr>\n",
       "      <th>1</th>\n",
       "      <td>0.366412</td>\n",
       "      <td>0.289398</td>\n",
       "      <td>0.522661</td>\n",
       "      <td>0.556647</td>\n",
       "      <td>0.636581</td>\n",
       "    </tr>\n",
       "    <tr>\n",
       "      <th>2</th>\n",
       "      <td>0.412449</td>\n",
       "      <td>0.007735</td>\n",
       "      <td>0.421826</td>\n",
       "      <td>0.419752</td>\n",
       "      <td>0.976503</td>\n",
       "    </tr>\n",
       "    <tr>\n",
       "      <th>3</th>\n",
       "      <td>0.792950</td>\n",
       "      <td>0.933153</td>\n",
       "      <td>0.654433</td>\n",
       "      <td>0.225260</td>\n",
       "      <td>0.709102</td>\n",
       "    </tr>\n",
       "    <tr>\n",
       "      <th>4</th>\n",
       "      <td>0.141460</td>\n",
       "      <td>0.703867</td>\n",
       "      <td>0.907866</td>\n",
       "      <td>0.619688</td>\n",
       "      <td>0.085312</td>\n",
       "    </tr>\n",
       "  </tbody>\n",
       "</table>\n",
       "</div>"
      ],
      "text/plain": [
       "          0         1         2         3         4\n",
       "0  0.753924  0.337627  0.494060  0.523363  0.232386\n",
       "1  0.366412  0.289398  0.522661  0.556647  0.636581\n",
       "2  0.412449  0.007735  0.421826  0.419752  0.976503\n",
       "3  0.792950  0.933153  0.654433  0.225260  0.709102\n",
       "4  0.141460  0.703867  0.907866  0.619688  0.085312"
      ]
     },
     "execution_count": 34,
     "metadata": {},
     "output_type": "execute_result"
    }
   ],
   "source": [
    "type(newdf)\n",
    "newdf.head()"
   ]
  },
  {
   "cell_type": "code",
   "execution_count": 35,
   "id": "4ad4a1ba-cf68-4255-8fcd-c79eff186152",
   "metadata": {},
   "outputs": [
    {
     "data": {
      "text/plain": [
       "0    float64\n",
       "1    float64\n",
       "2    float64\n",
       "3    float64\n",
       "4    float64\n",
       "dtype: object"
      ]
     },
     "execution_count": 35,
     "metadata": {},
     "output_type": "execute_result"
    }
   ],
   "source": [
    "newdf.dtypes"
   ]
  },
  {
   "cell_type": "code",
   "execution_count": 36,
   "id": "fcd098f2-bb83-4af7-919a-85845896b323",
   "metadata": {},
   "outputs": [
    {
     "name": "stderr",
     "output_type": "stream",
     "text": [
      "C:\\Users\\verma\\AppData\\Local\\Temp\\ipykernel_8896\\475059861.py:1: FutureWarning: ChainedAssignmentError: behaviour will change in pandas 3.0!\n",
      "You are setting values through chained assignment. Currently this works in certain cases, but when using Copy-on-Write (which will become the default behaviour in pandas 3.0) this will never work to update the original DataFrame or Series, because the intermediate object on which we are setting values will behave as a copy.\n",
      "A typical example is when you are setting values in a column of a DataFrame, like:\n",
      "\n",
      "df[\"col\"][row_indexer] = value\n",
      "\n",
      "Use `df.loc[row_indexer, \"col\"] = values` instead, to perform the assignment in a single step and ensure this keeps updating the original `df`.\n",
      "\n",
      "See the caveats in the documentation: https://pandas.pydata.org/pandas-docs/stable/user_guide/indexing.html#returning-a-view-versus-a-copy\n",
      "\n",
      "  newdf[0][0] = \"priyanshu\"\n",
      "C:\\Users\\verma\\AppData\\Local\\Temp\\ipykernel_8896\\475059861.py:1: FutureWarning: Setting an item of incompatible dtype is deprecated and will raise an error in a future version of pandas. Value 'priyanshu' has dtype incompatible with float64, please explicitly cast to a compatible dtype first.\n",
      "  newdf[0][0] = \"priyanshu\"\n"
     ]
    }
   ],
   "source": [
    "newdf[0][0] = \"priyanshu\""
   ]
  },
  {
   "cell_type": "code",
   "execution_count": 37,
   "id": "b0d7c592-f4a7-4066-9776-a629080b7272",
   "metadata": {},
   "outputs": [
    {
     "data": {
      "text/plain": [
       "0     object\n",
       "1    float64\n",
       "2    float64\n",
       "3    float64\n",
       "4    float64\n",
       "dtype: object"
      ]
     },
     "execution_count": 37,
     "metadata": {},
     "output_type": "execute_result"
    }
   ],
   "source": [
    "newdf.dtypes"
   ]
  },
  {
   "cell_type": "code",
   "execution_count": 38,
   "id": "9c0a0d9d-7519-4d9c-9bea-ef69aa774985",
   "metadata": {},
   "outputs": [
    {
     "data": {
      "text/html": [
       "<div>\n",
       "<style scoped>\n",
       "    .dataframe tbody tr th:only-of-type {\n",
       "        vertical-align: middle;\n",
       "    }\n",
       "\n",
       "    .dataframe tbody tr th {\n",
       "        vertical-align: top;\n",
       "    }\n",
       "\n",
       "    .dataframe thead th {\n",
       "        text-align: right;\n",
       "    }\n",
       "</style>\n",
       "<table border=\"1\" class=\"dataframe\">\n",
       "  <thead>\n",
       "    <tr style=\"text-align: right;\">\n",
       "      <th></th>\n",
       "      <th>0</th>\n",
       "      <th>1</th>\n",
       "      <th>2</th>\n",
       "      <th>3</th>\n",
       "      <th>4</th>\n",
       "    </tr>\n",
       "  </thead>\n",
       "  <tbody>\n",
       "    <tr>\n",
       "      <th>0</th>\n",
       "      <td>priyanshu</td>\n",
       "      <td>0.337627</td>\n",
       "      <td>0.494060</td>\n",
       "      <td>0.523363</td>\n",
       "      <td>0.232386</td>\n",
       "    </tr>\n",
       "    <tr>\n",
       "      <th>1</th>\n",
       "      <td>0.366412</td>\n",
       "      <td>0.289398</td>\n",
       "      <td>0.522661</td>\n",
       "      <td>0.556647</td>\n",
       "      <td>0.636581</td>\n",
       "    </tr>\n",
       "    <tr>\n",
       "      <th>2</th>\n",
       "      <td>0.412449</td>\n",
       "      <td>0.007735</td>\n",
       "      <td>0.421826</td>\n",
       "      <td>0.419752</td>\n",
       "      <td>0.976503</td>\n",
       "    </tr>\n",
       "    <tr>\n",
       "      <th>3</th>\n",
       "      <td>0.79295</td>\n",
       "      <td>0.933153</td>\n",
       "      <td>0.654433</td>\n",
       "      <td>0.225260</td>\n",
       "      <td>0.709102</td>\n",
       "    </tr>\n",
       "    <tr>\n",
       "      <th>4</th>\n",
       "      <td>0.14146</td>\n",
       "      <td>0.703867</td>\n",
       "      <td>0.907866</td>\n",
       "      <td>0.619688</td>\n",
       "      <td>0.085312</td>\n",
       "    </tr>\n",
       "  </tbody>\n",
       "</table>\n",
       "</div>"
      ],
      "text/plain": [
       "           0         1         2         3         4\n",
       "0  priyanshu  0.337627  0.494060  0.523363  0.232386\n",
       "1   0.366412  0.289398  0.522661  0.556647  0.636581\n",
       "2   0.412449  0.007735  0.421826  0.419752  0.976503\n",
       "3    0.79295  0.933153  0.654433  0.225260  0.709102\n",
       "4    0.14146  0.703867  0.907866  0.619688  0.085312"
      ]
     },
     "execution_count": 38,
     "metadata": {},
     "output_type": "execute_result"
    }
   ],
   "source": [
    "newdf.head()"
   ]
  },
  {
   "cell_type": "code",
   "execution_count": 39,
   "id": "f858f1c0-4474-4fd1-b500-b584ba7258ca",
   "metadata": {},
   "outputs": [
    {
     "data": {
      "text/plain": [
       "Index([  0,   1,   2,   3,   4,   5,   6,   7,   8,   9,\n",
       "       ...\n",
       "       324, 325, 326, 327, 328, 329, 330, 331, 332, 333],\n",
       "      dtype='int64', length=334)"
      ]
     },
     "execution_count": 39,
     "metadata": {},
     "output_type": "execute_result"
    }
   ],
   "source": [
    "newdf.index"
   ]
  },
  {
   "cell_type": "code",
   "execution_count": 40,
   "id": "d6b88553-e532-4f3e-a978-955a35dbdc82",
   "metadata": {},
   "outputs": [
    {
     "data": {
      "text/plain": [
       "RangeIndex(start=0, stop=5, step=1)"
      ]
     },
     "execution_count": 40,
     "metadata": {},
     "output_type": "execute_result"
    }
   ],
   "source": [
    "newdf.columns"
   ]
  },
  {
   "cell_type": "code",
   "execution_count": 41,
   "id": "8f508e19-016d-428a-8133-c8c7bb008caa",
   "metadata": {},
   "outputs": [
    {
     "data": {
      "text/plain": [
       "array([['priyanshu', 0.33762747950804206, 0.4940602459085657,\n",
       "        0.5233629653176148, 0.23238605933843437],\n",
       "       [0.3664124405230704, 0.289397841828694, 0.5226609369017181,\n",
       "        0.5566467166755429, 0.6365812430594839],\n",
       "       [0.41244934308685166, 0.007734693863521436, 0.42182599873131477,\n",
       "        0.41975165827252336, 0.9765027823642877],\n",
       "       ...,\n",
       "       [0.1553496511546767, 0.17805102436605502, 0.43245454773373027,\n",
       "        0.07557455866611706, 0.7401790526202477],\n",
       "       [0.5544335889590476, 0.5633233073274491, 0.5238357852773656,\n",
       "        0.015185700821977899, 0.08802593536723968],\n",
       "       [0.5660764136815818, 0.28630840104467836, 0.38783873315831485,\n",
       "        0.8216119143284614, 0.937602782340891]], dtype=object)"
      ]
     },
     "execution_count": 41,
     "metadata": {},
     "output_type": "execute_result"
    }
   ],
   "source": [
    "newdf.to_numpy()"
   ]
  },
  {
   "cell_type": "code",
   "execution_count": 42,
   "id": "9ea27e99-08aa-4f80-bb19-2641fef07b53",
   "metadata": {},
   "outputs": [],
   "source": [
    "newdf[0][0] = 0.34356"
   ]
  },
  {
   "cell_type": "code",
   "execution_count": 43,
   "id": "d96e7eb8-0214-4527-946a-42f93778ed4d",
   "metadata": {},
   "outputs": [
    {
     "name": "stderr",
     "output_type": "stream",
     "text": [
      "C:\\Users\\verma\\AppData\\Local\\Temp\\ipykernel_8896\\343592338.py:1: FutureWarning: ChainedAssignmentError: behaviour will change in pandas 3.0!\n",
      "You are setting values through chained assignment. Currently this works in certain cases, but when using Copy-on-Write (which will become the default behaviour in pandas 3.0) this will never work to update the original DataFrame or Series, because the intermediate object on which we are setting values will behave as a copy.\n",
      "A typical example is when you are setting values in a column of a DataFrame, like:\n",
      "\n",
      "df[\"col\"][row_indexer] = value\n",
      "\n",
      "Use `df.loc[row_indexer, \"col\"] = values` instead, to perform the assignment in a single step and ensure this keeps updating the original `df`.\n",
      "\n",
      "See the caveats in the documentation: https://pandas.pydata.org/pandas-docs/stable/user_guide/indexing.html#returning-a-view-versus-a-copy\n",
      "\n",
      "  newdf[3][2] = 0.2244\n",
      "C:\\Users\\verma\\AppData\\Local\\Temp\\ipykernel_8896\\343592338.py:1: SettingWithCopyWarning: \n",
      "A value is trying to be set on a copy of a slice from a DataFrame\n",
      "\n",
      "See the caveats in the documentation: https://pandas.pydata.org/pandas-docs/stable/user_guide/indexing.html#returning-a-view-versus-a-copy\n",
      "  newdf[3][2] = 0.2244\n"
     ]
    }
   ],
   "source": [
    "newdf[3][2] = 0.2244"
   ]
  },
  {
   "cell_type": "code",
   "execution_count": 44,
   "id": "b6211ea3-be04-434d-abc7-e380cefbe175",
   "metadata": {},
   "outputs": [
    {
     "data": {
      "text/plain": [
       "0     object\n",
       "1    float64\n",
       "2    float64\n",
       "3    float64\n",
       "4    float64\n",
       "dtype: object"
      ]
     },
     "execution_count": 44,
     "metadata": {},
     "output_type": "execute_result"
    }
   ],
   "source": [
    "newdf.dtypes"
   ]
  },
  {
   "cell_type": "code",
   "execution_count": 45,
   "id": "07c5c5d1-dbe0-4f98-9237-14d2c8d51f3b",
   "metadata": {},
   "outputs": [
    {
     "data": {
      "text/html": [
       "<div>\n",
       "<style scoped>\n",
       "    .dataframe tbody tr th:only-of-type {\n",
       "        vertical-align: middle;\n",
       "    }\n",
       "\n",
       "    .dataframe tbody tr th {\n",
       "        vertical-align: top;\n",
       "    }\n",
       "\n",
       "    .dataframe thead th {\n",
       "        text-align: right;\n",
       "    }\n",
       "</style>\n",
       "<table border=\"1\" class=\"dataframe\">\n",
       "  <thead>\n",
       "    <tr style=\"text-align: right;\">\n",
       "      <th></th>\n",
       "      <th>0</th>\n",
       "      <th>1</th>\n",
       "      <th>2</th>\n",
       "      <th>3</th>\n",
       "      <th>4</th>\n",
       "    </tr>\n",
       "  </thead>\n",
       "  <tbody>\n",
       "    <tr>\n",
       "      <th>0</th>\n",
       "      <td>0.34356</td>\n",
       "      <td>0.337627</td>\n",
       "      <td>0.494060</td>\n",
       "      <td>0.523363</td>\n",
       "      <td>0.232386</td>\n",
       "    </tr>\n",
       "    <tr>\n",
       "      <th>1</th>\n",
       "      <td>0.366412</td>\n",
       "      <td>0.289398</td>\n",
       "      <td>0.522661</td>\n",
       "      <td>0.556647</td>\n",
       "      <td>0.636581</td>\n",
       "    </tr>\n",
       "    <tr>\n",
       "      <th>2</th>\n",
       "      <td>0.412449</td>\n",
       "      <td>0.007735</td>\n",
       "      <td>0.421826</td>\n",
       "      <td>0.224400</td>\n",
       "      <td>0.976503</td>\n",
       "    </tr>\n",
       "    <tr>\n",
       "      <th>3</th>\n",
       "      <td>0.79295</td>\n",
       "      <td>0.933153</td>\n",
       "      <td>0.654433</td>\n",
       "      <td>0.225260</td>\n",
       "      <td>0.709102</td>\n",
       "    </tr>\n",
       "    <tr>\n",
       "      <th>4</th>\n",
       "      <td>0.14146</td>\n",
       "      <td>0.703867</td>\n",
       "      <td>0.907866</td>\n",
       "      <td>0.619688</td>\n",
       "      <td>0.085312</td>\n",
       "    </tr>\n",
       "    <tr>\n",
       "      <th>...</th>\n",
       "      <td>...</td>\n",
       "      <td>...</td>\n",
       "      <td>...</td>\n",
       "      <td>...</td>\n",
       "      <td>...</td>\n",
       "    </tr>\n",
       "    <tr>\n",
       "      <th>329</th>\n",
       "      <td>0.330602</td>\n",
       "      <td>0.255965</td>\n",
       "      <td>0.006253</td>\n",
       "      <td>0.731445</td>\n",
       "      <td>0.551473</td>\n",
       "    </tr>\n",
       "    <tr>\n",
       "      <th>330</th>\n",
       "      <td>0.09004</td>\n",
       "      <td>0.234745</td>\n",
       "      <td>0.112143</td>\n",
       "      <td>0.207764</td>\n",
       "      <td>0.021992</td>\n",
       "    </tr>\n",
       "    <tr>\n",
       "      <th>331</th>\n",
       "      <td>0.15535</td>\n",
       "      <td>0.178051</td>\n",
       "      <td>0.432455</td>\n",
       "      <td>0.075575</td>\n",
       "      <td>0.740179</td>\n",
       "    </tr>\n",
       "    <tr>\n",
       "      <th>332</th>\n",
       "      <td>0.554434</td>\n",
       "      <td>0.563323</td>\n",
       "      <td>0.523836</td>\n",
       "      <td>0.015186</td>\n",
       "      <td>0.088026</td>\n",
       "    </tr>\n",
       "    <tr>\n",
       "      <th>333</th>\n",
       "      <td>0.566076</td>\n",
       "      <td>0.286308</td>\n",
       "      <td>0.387839</td>\n",
       "      <td>0.821612</td>\n",
       "      <td>0.937603</td>\n",
       "    </tr>\n",
       "  </tbody>\n",
       "</table>\n",
       "<p>334 rows × 5 columns</p>\n",
       "</div>"
      ],
      "text/plain": [
       "            0         1         2         3         4\n",
       "0     0.34356  0.337627  0.494060  0.523363  0.232386\n",
       "1    0.366412  0.289398  0.522661  0.556647  0.636581\n",
       "2    0.412449  0.007735  0.421826  0.224400  0.976503\n",
       "3     0.79295  0.933153  0.654433  0.225260  0.709102\n",
       "4     0.14146  0.703867  0.907866  0.619688  0.085312\n",
       "..        ...       ...       ...       ...       ...\n",
       "329  0.330602  0.255965  0.006253  0.731445  0.551473\n",
       "330   0.09004  0.234745  0.112143  0.207764  0.021992\n",
       "331   0.15535  0.178051  0.432455  0.075575  0.740179\n",
       "332  0.554434  0.563323  0.523836  0.015186  0.088026\n",
       "333  0.566076  0.286308  0.387839  0.821612  0.937603\n",
       "\n",
       "[334 rows x 5 columns]"
      ]
     },
     "execution_count": 45,
     "metadata": {},
     "output_type": "execute_result"
    }
   ],
   "source": [
    "newdf"
   ]
  },
  {
   "cell_type": "code",
   "execution_count": 46,
   "id": "1aec9847-f3cb-424a-8074-6ffe73ffb247",
   "metadata": {},
   "outputs": [
    {
     "data": {
      "text/html": [
       "<div>\n",
       "<style scoped>\n",
       "    .dataframe tbody tr th:only-of-type {\n",
       "        vertical-align: middle;\n",
       "    }\n",
       "\n",
       "    .dataframe tbody tr th {\n",
       "        vertical-align: top;\n",
       "    }\n",
       "\n",
       "    .dataframe thead th {\n",
       "        text-align: right;\n",
       "    }\n",
       "</style>\n",
       "<table border=\"1\" class=\"dataframe\">\n",
       "  <thead>\n",
       "    <tr style=\"text-align: right;\">\n",
       "      <th></th>\n",
       "      <th>0</th>\n",
       "      <th>1</th>\n",
       "      <th>2</th>\n",
       "      <th>3</th>\n",
       "      <th>4</th>\n",
       "      <th>5</th>\n",
       "      <th>6</th>\n",
       "      <th>7</th>\n",
       "      <th>8</th>\n",
       "      <th>9</th>\n",
       "      <th>...</th>\n",
       "      <th>324</th>\n",
       "      <th>325</th>\n",
       "      <th>326</th>\n",
       "      <th>327</th>\n",
       "      <th>328</th>\n",
       "      <th>329</th>\n",
       "      <th>330</th>\n",
       "      <th>331</th>\n",
       "      <th>332</th>\n",
       "      <th>333</th>\n",
       "    </tr>\n",
       "  </thead>\n",
       "  <tbody>\n",
       "    <tr>\n",
       "      <th>0</th>\n",
       "      <td>0.34356</td>\n",
       "      <td>0.366412</td>\n",
       "      <td>0.412449</td>\n",
       "      <td>0.79295</td>\n",
       "      <td>0.14146</td>\n",
       "      <td>0.542512</td>\n",
       "      <td>0.238015</td>\n",
       "      <td>0.597539</td>\n",
       "      <td>0.124204</td>\n",
       "      <td>0.451459</td>\n",
       "      <td>...</td>\n",
       "      <td>0.852975</td>\n",
       "      <td>0.435633</td>\n",
       "      <td>0.160713</td>\n",
       "      <td>0.027743</td>\n",
       "      <td>0.804812</td>\n",
       "      <td>0.330602</td>\n",
       "      <td>0.09004</td>\n",
       "      <td>0.15535</td>\n",
       "      <td>0.554434</td>\n",
       "      <td>0.566076</td>\n",
       "    </tr>\n",
       "    <tr>\n",
       "      <th>1</th>\n",
       "      <td>0.337627</td>\n",
       "      <td>0.289398</td>\n",
       "      <td>0.007735</td>\n",
       "      <td>0.933153</td>\n",
       "      <td>0.703867</td>\n",
       "      <td>0.188565</td>\n",
       "      <td>0.081495</td>\n",
       "      <td>0.080053</td>\n",
       "      <td>0.32136</td>\n",
       "      <td>0.329974</td>\n",
       "      <td>...</td>\n",
       "      <td>0.183424</td>\n",
       "      <td>0.404425</td>\n",
       "      <td>0.192096</td>\n",
       "      <td>0.231387</td>\n",
       "      <td>0.929651</td>\n",
       "      <td>0.255965</td>\n",
       "      <td>0.234745</td>\n",
       "      <td>0.178051</td>\n",
       "      <td>0.563323</td>\n",
       "      <td>0.286308</td>\n",
       "    </tr>\n",
       "    <tr>\n",
       "      <th>2</th>\n",
       "      <td>0.49406</td>\n",
       "      <td>0.522661</td>\n",
       "      <td>0.421826</td>\n",
       "      <td>0.654433</td>\n",
       "      <td>0.907866</td>\n",
       "      <td>0.834269</td>\n",
       "      <td>0.257601</td>\n",
       "      <td>0.635889</td>\n",
       "      <td>0.161654</td>\n",
       "      <td>0.235152</td>\n",
       "      <td>...</td>\n",
       "      <td>0.698652</td>\n",
       "      <td>0.192099</td>\n",
       "      <td>0.041061</td>\n",
       "      <td>0.457389</td>\n",
       "      <td>0.327195</td>\n",
       "      <td>0.006253</td>\n",
       "      <td>0.112143</td>\n",
       "      <td>0.432455</td>\n",
       "      <td>0.523836</td>\n",
       "      <td>0.387839</td>\n",
       "    </tr>\n",
       "    <tr>\n",
       "      <th>3</th>\n",
       "      <td>0.523363</td>\n",
       "      <td>0.556647</td>\n",
       "      <td>0.2244</td>\n",
       "      <td>0.22526</td>\n",
       "      <td>0.619688</td>\n",
       "      <td>0.282443</td>\n",
       "      <td>0.056856</td>\n",
       "      <td>0.152941</td>\n",
       "      <td>0.239674</td>\n",
       "      <td>0.484919</td>\n",
       "      <td>...</td>\n",
       "      <td>0.477861</td>\n",
       "      <td>0.531947</td>\n",
       "      <td>0.283129</td>\n",
       "      <td>0.670768</td>\n",
       "      <td>0.749465</td>\n",
       "      <td>0.731445</td>\n",
       "      <td>0.207764</td>\n",
       "      <td>0.075575</td>\n",
       "      <td>0.015186</td>\n",
       "      <td>0.821612</td>\n",
       "    </tr>\n",
       "    <tr>\n",
       "      <th>4</th>\n",
       "      <td>0.232386</td>\n",
       "      <td>0.636581</td>\n",
       "      <td>0.976503</td>\n",
       "      <td>0.709102</td>\n",
       "      <td>0.085312</td>\n",
       "      <td>0.144547</td>\n",
       "      <td>0.474415</td>\n",
       "      <td>0.255333</td>\n",
       "      <td>0.722726</td>\n",
       "      <td>0.823725</td>\n",
       "      <td>...</td>\n",
       "      <td>0.009124</td>\n",
       "      <td>0.99102</td>\n",
       "      <td>0.12425</td>\n",
       "      <td>0.586051</td>\n",
       "      <td>0.864294</td>\n",
       "      <td>0.551473</td>\n",
       "      <td>0.021992</td>\n",
       "      <td>0.740179</td>\n",
       "      <td>0.088026</td>\n",
       "      <td>0.937603</td>\n",
       "    </tr>\n",
       "  </tbody>\n",
       "</table>\n",
       "<p>5 rows × 334 columns</p>\n",
       "</div>"
      ],
      "text/plain": [
       "        0         1         2         3         4         5         6    \\\n",
       "0   0.34356  0.366412  0.412449   0.79295   0.14146  0.542512  0.238015   \n",
       "1  0.337627  0.289398  0.007735  0.933153  0.703867  0.188565  0.081495   \n",
       "2   0.49406  0.522661  0.421826  0.654433  0.907866  0.834269  0.257601   \n",
       "3  0.523363  0.556647    0.2244   0.22526  0.619688  0.282443  0.056856   \n",
       "4  0.232386  0.636581  0.976503  0.709102  0.085312  0.144547  0.474415   \n",
       "\n",
       "        7         8         9    ...       324       325       326       327  \\\n",
       "0  0.597539  0.124204  0.451459  ...  0.852975  0.435633  0.160713  0.027743   \n",
       "1  0.080053   0.32136  0.329974  ...  0.183424  0.404425  0.192096  0.231387   \n",
       "2  0.635889  0.161654  0.235152  ...  0.698652  0.192099  0.041061  0.457389   \n",
       "3  0.152941  0.239674  0.484919  ...  0.477861  0.531947  0.283129  0.670768   \n",
       "4  0.255333  0.722726  0.823725  ...  0.009124   0.99102   0.12425  0.586051   \n",
       "\n",
       "        328       329       330       331       332       333  \n",
       "0  0.804812  0.330602   0.09004   0.15535  0.554434  0.566076  \n",
       "1  0.929651  0.255965  0.234745  0.178051  0.563323  0.286308  \n",
       "2  0.327195  0.006253  0.112143  0.432455  0.523836  0.387839  \n",
       "3  0.749465  0.731445  0.207764  0.075575  0.015186  0.821612  \n",
       "4  0.864294  0.551473  0.021992  0.740179  0.088026  0.937603  \n",
       "\n",
       "[5 rows x 334 columns]"
      ]
     },
     "execution_count": 46,
     "metadata": {},
     "output_type": "execute_result"
    }
   ],
   "source": [
    "newdf.T"
   ]
  },
  {
   "cell_type": "code",
   "execution_count": null,
   "id": "7409abb9-4dc4-4827-afe0-ea863aef20d1",
   "metadata": {},
   "outputs": [],
   "source": []
  },
  {
   "cell_type": "code",
   "execution_count": null,
   "id": "c82d9fee-afd3-4850-bf69-e5b3022acbce",
   "metadata": {},
   "outputs": [],
   "source": []
  },
  {
   "cell_type": "code",
   "execution_count": null,
   "id": "d74e2080-51a3-4300-b612-5e0c3914e4b6",
   "metadata": {},
   "outputs": [],
   "source": []
  },
  {
   "cell_type": "code",
   "execution_count": null,
   "id": "b04b187a-cb3d-41c2-8621-f33cd87d2d87",
   "metadata": {},
   "outputs": [],
   "source": []
  },
  {
   "cell_type": "code",
   "execution_count": null,
   "id": "8e13b50c-60d3-4ec3-bf23-dd0aea76fb6a",
   "metadata": {},
   "outputs": [],
   "source": []
  },
  {
   "cell_type": "code",
   "execution_count": null,
   "id": "6fceabea-3815-4caf-8f96-2c85d935746f",
   "metadata": {},
   "outputs": [],
   "source": []
  },
  {
   "cell_type": "code",
   "execution_count": null,
   "id": "b61659fc-a9a9-4ce8-9b4f-2457fcb71f45",
   "metadata": {},
   "outputs": [],
   "source": []
  }
 ],
 "metadata": {
  "kernelspec": {
   "display_name": "Python 3 (ipykernel)",
   "language": "python",
   "name": "python3"
  },
  "language_info": {
   "codemirror_mode": {
    "name": "ipython",
    "version": 3
   },
   "file_extension": ".py",
   "mimetype": "text/x-python",
   "name": "python",
   "nbconvert_exporter": "python",
   "pygments_lexer": "ipython3",
   "version": "3.13.0"
  }
 },
 "nbformat": 4,
 "nbformat_minor": 5
}
