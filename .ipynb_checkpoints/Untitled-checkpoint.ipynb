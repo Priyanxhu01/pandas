{
 "cells": [
  {
   "cell_type": "code",
   "execution_count": 12,
   "id": "b6182d95-b1ea-4033-8882-84716c486a02",
   "metadata": {},
   "outputs": [],
   "source": [
    "import numpy as np\n",
    "import pandas as pd"
   ]
  },
  {
   "cell_type": "code",
   "execution_count": 13,
   "id": "4a36ae7c-83fe-4799-8480-a82ce00ac460",
   "metadata": {},
   "outputs": [],
   "source": [
    "dict1 = {\n",
    "    \"name\":['priyanshu','rohan','sohan','skillf','yyyy','zzzz'],\n",
    "    \"marks\":[92, 34, 44,54,55,56],\n",
    "    \"city\":['lucknow','delhi','kanpur','bareilly','goa',\"uk\"]\n",
    "}"
   ]
  },
  {
   "cell_type": "code",
   "execution_count": 14,
   "id": "fe21ee4f-3bfa-470c-9dff-95eaea87061b",
   "metadata": {},
   "outputs": [],
   "source": [
    "df = pd.DataFrame(dict1)"
   ]
  },
  {
   "cell_type": "code",
   "execution_count": 15,
   "id": "c903fea6-2a86-4ea7-802e-9b9bae0000eb",
   "metadata": {},
   "outputs": [
    {
     "data": {
      "text/html": [
       "<div>\n",
       "<style scoped>\n",
       "    .dataframe tbody tr th:only-of-type {\n",
       "        vertical-align: middle;\n",
       "    }\n",
       "\n",
       "    .dataframe tbody tr th {\n",
       "        vertical-align: top;\n",
       "    }\n",
       "\n",
       "    .dataframe thead th {\n",
       "        text-align: right;\n",
       "    }\n",
       "</style>\n",
       "<table border=\"1\" class=\"dataframe\">\n",
       "  <thead>\n",
       "    <tr style=\"text-align: right;\">\n",
       "      <th></th>\n",
       "      <th>name</th>\n",
       "      <th>marks</th>\n",
       "      <th>city</th>\n",
       "    </tr>\n",
       "  </thead>\n",
       "  <tbody>\n",
       "    <tr>\n",
       "      <th>0</th>\n",
       "      <td>priyanshu</td>\n",
       "      <td>92</td>\n",
       "      <td>lucknow</td>\n",
       "    </tr>\n",
       "    <tr>\n",
       "      <th>1</th>\n",
       "      <td>rohan</td>\n",
       "      <td>34</td>\n",
       "      <td>delhi</td>\n",
       "    </tr>\n",
       "    <tr>\n",
       "      <th>2</th>\n",
       "      <td>sohan</td>\n",
       "      <td>44</td>\n",
       "      <td>kanpur</td>\n",
       "    </tr>\n",
       "    <tr>\n",
       "      <th>3</th>\n",
       "      <td>skillf</td>\n",
       "      <td>54</td>\n",
       "      <td>bareilly</td>\n",
       "    </tr>\n",
       "    <tr>\n",
       "      <th>4</th>\n",
       "      <td>yyyy</td>\n",
       "      <td>55</td>\n",
       "      <td>goa</td>\n",
       "    </tr>\n",
       "    <tr>\n",
       "      <th>5</th>\n",
       "      <td>zzzz</td>\n",
       "      <td>56</td>\n",
       "      <td>uk</td>\n",
       "    </tr>\n",
       "  </tbody>\n",
       "</table>\n",
       "</div>"
      ],
      "text/plain": [
       "        name  marks      city\n",
       "0  priyanshu     92   lucknow\n",
       "1      rohan     34     delhi\n",
       "2      sohan     44    kanpur\n",
       "3     skillf     54  bareilly\n",
       "4       yyyy     55       goa\n",
       "5       zzzz     56        uk"
      ]
     },
     "execution_count": 15,
     "metadata": {},
     "output_type": "execute_result"
    }
   ],
   "source": [
    "df"
   ]
  },
  {
   "cell_type": "code",
   "execution_count": 16,
   "id": "97871ab7-6608-48eb-8f73-8ae3b6e5225b",
   "metadata": {},
   "outputs": [],
   "source": [
    "df.to_csv('friends.csv')"
   ]
  },
  {
   "cell_type": "code",
   "execution_count": 17,
   "id": "cb10fe21-e23a-4010-aa57-3a4e313f425a",
   "metadata": {},
   "outputs": [],
   "source": [
    "df.to_csv('friends_indexfalse.csv', index = False)"
   ]
  },
  {
   "cell_type": "code",
   "execution_count": 18,
   "id": "af920333-57d9-499f-8c64-a10766c287e0",
   "metadata": {},
   "outputs": [
    {
     "data": {
      "text/html": [
       "<div>\n",
       "<style scoped>\n",
       "    .dataframe tbody tr th:only-of-type {\n",
       "        vertical-align: middle;\n",
       "    }\n",
       "\n",
       "    .dataframe tbody tr th {\n",
       "        vertical-align: top;\n",
       "    }\n",
       "\n",
       "    .dataframe thead th {\n",
       "        text-align: right;\n",
       "    }\n",
       "</style>\n",
       "<table border=\"1\" class=\"dataframe\">\n",
       "  <thead>\n",
       "    <tr style=\"text-align: right;\">\n",
       "      <th></th>\n",
       "      <th>name</th>\n",
       "      <th>marks</th>\n",
       "      <th>city</th>\n",
       "    </tr>\n",
       "  </thead>\n",
       "  <tbody>\n",
       "    <tr>\n",
       "      <th>0</th>\n",
       "      <td>priyanshu</td>\n",
       "      <td>92</td>\n",
       "      <td>lucknow</td>\n",
       "    </tr>\n",
       "    <tr>\n",
       "      <th>1</th>\n",
       "      <td>rohan</td>\n",
       "      <td>34</td>\n",
       "      <td>delhi</td>\n",
       "    </tr>\n",
       "  </tbody>\n",
       "</table>\n",
       "</div>"
      ],
      "text/plain": [
       "        name  marks     city\n",
       "0  priyanshu     92  lucknow\n",
       "1      rohan     34    delhi"
      ]
     },
     "execution_count": 18,
     "metadata": {},
     "output_type": "execute_result"
    }
   ],
   "source": [
    "df.head(2)"
   ]
  },
  {
   "cell_type": "code",
   "execution_count": 19,
   "id": "c6c7176a-dc5c-4600-84fd-0855eff69d48",
   "metadata": {},
   "outputs": [
    {
     "data": {
      "text/html": [
       "<div>\n",
       "<style scoped>\n",
       "    .dataframe tbody tr th:only-of-type {\n",
       "        vertical-align: middle;\n",
       "    }\n",
       "\n",
       "    .dataframe tbody tr th {\n",
       "        vertical-align: top;\n",
       "    }\n",
       "\n",
       "    .dataframe thead th {\n",
       "        text-align: right;\n",
       "    }\n",
       "</style>\n",
       "<table border=\"1\" class=\"dataframe\">\n",
       "  <thead>\n",
       "    <tr style=\"text-align: right;\">\n",
       "      <th></th>\n",
       "      <th>name</th>\n",
       "      <th>marks</th>\n",
       "      <th>city</th>\n",
       "    </tr>\n",
       "  </thead>\n",
       "  <tbody>\n",
       "    <tr>\n",
       "      <th>3</th>\n",
       "      <td>skillf</td>\n",
       "      <td>54</td>\n",
       "      <td>bareilly</td>\n",
       "    </tr>\n",
       "    <tr>\n",
       "      <th>4</th>\n",
       "      <td>yyyy</td>\n",
       "      <td>55</td>\n",
       "      <td>goa</td>\n",
       "    </tr>\n",
       "    <tr>\n",
       "      <th>5</th>\n",
       "      <td>zzzz</td>\n",
       "      <td>56</td>\n",
       "      <td>uk</td>\n",
       "    </tr>\n",
       "  </tbody>\n",
       "</table>\n",
       "</div>"
      ],
      "text/plain": [
       "     name  marks      city\n",
       "3  skillf     54  bareilly\n",
       "4    yyyy     55       goa\n",
       "5    zzzz     56        uk"
      ]
     },
     "execution_count": 19,
     "metadata": {},
     "output_type": "execute_result"
    }
   ],
   "source": [
    "df.tail(3)"
   ]
  },
  {
   "cell_type": "code",
   "execution_count": 20,
   "id": "cdcab4fd-6418-4526-a87e-839579da7952",
   "metadata": {},
   "outputs": [
    {
     "data": {
      "text/html": [
       "<div>\n",
       "<style scoped>\n",
       "    .dataframe tbody tr th:only-of-type {\n",
       "        vertical-align: middle;\n",
       "    }\n",
       "\n",
       "    .dataframe tbody tr th {\n",
       "        vertical-align: top;\n",
       "    }\n",
       "\n",
       "    .dataframe thead th {\n",
       "        text-align: right;\n",
       "    }\n",
       "</style>\n",
       "<table border=\"1\" class=\"dataframe\">\n",
       "  <thead>\n",
       "    <tr style=\"text-align: right;\">\n",
       "      <th></th>\n",
       "      <th>marks</th>\n",
       "    </tr>\n",
       "  </thead>\n",
       "  <tbody>\n",
       "    <tr>\n",
       "      <th>count</th>\n",
       "      <td>6.000000</td>\n",
       "    </tr>\n",
       "    <tr>\n",
       "      <th>mean</th>\n",
       "      <td>55.833333</td>\n",
       "    </tr>\n",
       "    <tr>\n",
       "      <th>std</th>\n",
       "      <td>19.640944</td>\n",
       "    </tr>\n",
       "    <tr>\n",
       "      <th>min</th>\n",
       "      <td>34.000000</td>\n",
       "    </tr>\n",
       "    <tr>\n",
       "      <th>25%</th>\n",
       "      <td>46.500000</td>\n",
       "    </tr>\n",
       "    <tr>\n",
       "      <th>50%</th>\n",
       "      <td>54.500000</td>\n",
       "    </tr>\n",
       "    <tr>\n",
       "      <th>75%</th>\n",
       "      <td>55.750000</td>\n",
       "    </tr>\n",
       "    <tr>\n",
       "      <th>max</th>\n",
       "      <td>92.000000</td>\n",
       "    </tr>\n",
       "  </tbody>\n",
       "</table>\n",
       "</div>"
      ],
      "text/plain": [
       "           marks\n",
       "count   6.000000\n",
       "mean   55.833333\n",
       "std    19.640944\n",
       "min    34.000000\n",
       "25%    46.500000\n",
       "50%    54.500000\n",
       "75%    55.750000\n",
       "max    92.000000"
      ]
     },
     "execution_count": 20,
     "metadata": {},
     "output_type": "execute_result"
    }
   ],
   "source": [
    "df.describe()"
   ]
  },
  {
   "cell_type": "code",
   "execution_count": 21,
   "id": "3b7ab7c2-5066-4c34-b710-834e0ef45bc0",
   "metadata": {},
   "outputs": [
    {
     "data": {
      "text/html": [
       "<div>\n",
       "<style scoped>\n",
       "    .dataframe tbody tr th:only-of-type {\n",
       "        vertical-align: middle;\n",
       "    }\n",
       "\n",
       "    .dataframe tbody tr th {\n",
       "        vertical-align: top;\n",
       "    }\n",
       "\n",
       "    .dataframe thead th {\n",
       "        text-align: right;\n",
       "    }\n",
       "</style>\n",
       "<table border=\"1\" class=\"dataframe\">\n",
       "  <thead>\n",
       "    <tr style=\"text-align: right;\">\n",
       "      <th></th>\n",
       "      <th>name</th>\n",
       "      <th>marks</th>\n",
       "      <th>city</th>\n",
       "    </tr>\n",
       "  </thead>\n",
       "  <tbody>\n",
       "    <tr>\n",
       "      <th>count</th>\n",
       "      <td>6</td>\n",
       "      <td>6.000000</td>\n",
       "      <td>6</td>\n",
       "    </tr>\n",
       "    <tr>\n",
       "      <th>unique</th>\n",
       "      <td>6</td>\n",
       "      <td>NaN</td>\n",
       "      <td>6</td>\n",
       "    </tr>\n",
       "    <tr>\n",
       "      <th>top</th>\n",
       "      <td>priyanshu</td>\n",
       "      <td>NaN</td>\n",
       "      <td>lucknow</td>\n",
       "    </tr>\n",
       "    <tr>\n",
       "      <th>freq</th>\n",
       "      <td>1</td>\n",
       "      <td>NaN</td>\n",
       "      <td>1</td>\n",
       "    </tr>\n",
       "    <tr>\n",
       "      <th>mean</th>\n",
       "      <td>NaN</td>\n",
       "      <td>55.833333</td>\n",
       "      <td>NaN</td>\n",
       "    </tr>\n",
       "    <tr>\n",
       "      <th>std</th>\n",
       "      <td>NaN</td>\n",
       "      <td>19.640944</td>\n",
       "      <td>NaN</td>\n",
       "    </tr>\n",
       "    <tr>\n",
       "      <th>min</th>\n",
       "      <td>NaN</td>\n",
       "      <td>34.000000</td>\n",
       "      <td>NaN</td>\n",
       "    </tr>\n",
       "    <tr>\n",
       "      <th>25%</th>\n",
       "      <td>NaN</td>\n",
       "      <td>46.500000</td>\n",
       "      <td>NaN</td>\n",
       "    </tr>\n",
       "    <tr>\n",
       "      <th>50%</th>\n",
       "      <td>NaN</td>\n",
       "      <td>54.500000</td>\n",
       "      <td>NaN</td>\n",
       "    </tr>\n",
       "    <tr>\n",
       "      <th>75%</th>\n",
       "      <td>NaN</td>\n",
       "      <td>55.750000</td>\n",
       "      <td>NaN</td>\n",
       "    </tr>\n",
       "    <tr>\n",
       "      <th>max</th>\n",
       "      <td>NaN</td>\n",
       "      <td>92.000000</td>\n",
       "      <td>NaN</td>\n",
       "    </tr>\n",
       "  </tbody>\n",
       "</table>\n",
       "</div>"
      ],
      "text/plain": [
       "             name      marks     city\n",
       "count           6   6.000000        6\n",
       "unique          6        NaN        6\n",
       "top     priyanshu        NaN  lucknow\n",
       "freq            1        NaN        1\n",
       "mean          NaN  55.833333      NaN\n",
       "std           NaN  19.640944      NaN\n",
       "min           NaN  34.000000      NaN\n",
       "25%           NaN  46.500000      NaN\n",
       "50%           NaN  54.500000      NaN\n",
       "75%           NaN  55.750000      NaN\n",
       "max           NaN  92.000000      NaN"
      ]
     },
     "execution_count": 21,
     "metadata": {},
     "output_type": "execute_result"
    }
   ],
   "source": [
    "df.describe(include='all')"
   ]
  },
  {
   "cell_type": "code",
   "execution_count": 22,
   "id": "1ae1e601-afd9-42dd-908b-d6a051f045ac",
   "metadata": {},
   "outputs": [
    {
     "ename": "AttributeError",
     "evalue": "module 'pandas' has no attribute 'read'",
     "output_type": "error",
     "traceback": [
      "\u001b[1;31m---------------------------------------------------------------------------\u001b[0m",
      "\u001b[1;31mAttributeError\u001b[0m                            Traceback (most recent call last)",
      "Cell \u001b[1;32mIn[22], line 1\u001b[0m\n\u001b[1;32m----> 1\u001b[0m priyanshu \u001b[38;5;241m=\u001b[39m \u001b[43mpd\u001b[49m\u001b[38;5;241;43m.\u001b[39;49m\u001b[43mread\u001b[49m(\u001b[38;5;124m'\u001b[39m\u001b[38;5;124mpriyanshu.csv\u001b[39m\u001b[38;5;124m'\u001b[39m)\n",
      "\u001b[1;31mAttributeError\u001b[0m: module 'pandas' has no attribute 'read'"
     ]
    }
   ],
   "source": [
    "priyanshu = pd.read('priyanshu.csv')"
   ]
  },
  {
   "cell_type": "code",
   "execution_count": null,
   "id": "58378908-476b-4413-9f93-74a64a34e76d",
   "metadata": {},
   "outputs": [],
   "source": [
    "priyanshu = pd.read_csv('priyanshu.csv')"
   ]
  },
  {
   "cell_type": "code",
   "execution_count": null,
   "id": "eb7e5bde-6aa3-4e17-a0cc-7036d8de44c6",
   "metadata": {},
   "outputs": [],
   "source": [
    "priyanshu"
   ]
  },
  {
   "cell_type": "code",
   "execution_count": null,
   "id": "7062cc9f-d228-4eae-b41d-2672ccba335a",
   "metadata": {},
   "outputs": [],
   "source": [
    "priyanshu.head(3)"
   ]
  },
  {
   "cell_type": "code",
   "execution_count": null,
   "id": "2fa6715a-3526-4b28-81b2-826c83c46420",
   "metadata": {},
   "outputs": [],
   "source": [
    "priyanshu.tail(2)"
   ]
  },
  {
   "cell_type": "code",
   "execution_count": null,
   "id": "deda0125-9b76-4479-bd14-22b1675870af",
   "metadata": {},
   "outputs": [],
   "source": [
    "priyanshu.describe()"
   ]
  },
  {
   "cell_type": "code",
   "execution_count": null,
   "id": "a4f8a3e2-a786-4666-9a81-59b80a8199dd",
   "metadata": {},
   "outputs": [],
   "source": [
    "priyanshu.describe(include='all')"
   ]
  },
  {
   "cell_type": "code",
   "execution_count": null,
   "id": "4d457625-e22d-4976-ac16-2ee59ebd3c77",
   "metadata": {},
   "outputs": [],
   "source": [
    "priyanshu['speed'][0]= 125"
   ]
  },
  {
   "cell_type": "code",
   "execution_count": null,
   "id": "68966498-6eae-4b20-af58-bce56f71377f",
   "metadata": {},
   "outputs": [],
   "source": [
    "priyanshu"
   ]
  },
  {
   "cell_type": "code",
   "execution_count": null,
   "id": "6feed60d-63a2-49ec-af80-c5c8881c46ce",
   "metadata": {},
   "outputs": [],
   "source": [
    "priyanshu.to_csv(\"priyanshu.csv\",index = False)"
   ]
  },
  {
   "cell_type": "code",
   "execution_count": null,
   "id": "2bbf0b56-f2fb-4106-8507-ed6a36fdd98d",
   "metadata": {},
   "outputs": [],
   "source": [
    "priyanshu['city'][2] = \"Gola Gokarnnath\""
   ]
  },
  {
   "cell_type": "code",
   "execution_count": null,
   "id": "b5ef0653-b077-4600-bca5-da6dffa3fdfc",
   "metadata": {},
   "outputs": [],
   "source": [
    "priyanshu"
   ]
  },
  {
   "cell_type": "code",
   "execution_count": null,
   "id": "82fd6a9b-6fd3-411b-bad8-0c27e1fac4ac",
   "metadata": {},
   "outputs": [],
   "source": [
    "priyanshu.to_csv(\"priyanshu.csv\",index = False)"
   ]
  },
  {
   "cell_type": "code",
   "execution_count": null,
   "id": "b18b0f57-0f60-4865-af31-7f0607ae06e2",
   "metadata": {},
   "outputs": [],
   "source": [
    "priyanshu"
   ]
  },
  {
   "cell_type": "code",
   "execution_count": null,
   "id": "08abc5c1-41b2-43aa-bd5e-8c0bff576936",
   "metadata": {},
   "outputs": [],
   "source": [
    "priyanshu.index = ['first', 'second','third','fourth']"
   ]
  },
  {
   "cell_type": "code",
   "execution_count": null,
   "id": "193b8207-1075-4ee8-9446-78a5eb4241d9",
   "metadata": {},
   "outputs": [],
   "source": [
    "priyanshu"
   ]
  },
  {
   "cell_type": "code",
   "execution_count": null,
   "id": "c93ffd95-328b-450b-8352-8953bf6bf804",
   "metadata": {},
   "outputs": [],
   "source": [
    "ser = pd.Series(np.random.rand(22))"
   ]
  },
  {
   "cell_type": "code",
   "execution_count": null,
   "id": "0aeec6a4-24a3-48f7-83ca-1faed819245e",
   "metadata": {},
   "outputs": [],
   "source": [
    "type(ser)"
   ]
  },
  {
   "cell_type": "code",
   "execution_count": null,
   "id": "5be219b0-8c16-4c54-b528-4be2d6cdea62",
   "metadata": {},
   "outputs": [],
   "source": [
    "newdf = pd.DataFrame(np.random.rand(334,5), index = np.arange(334))"
   ]
  },
  {
   "cell_type": "code",
   "execution_count": null,
   "id": "b7e921da-3d4f-4e48-8875-16bd090fddae",
   "metadata": {},
   "outputs": [],
   "source": [
    "type(newdf)\n",
    "newdf.head()"
   ]
  },
  {
   "cell_type": "code",
   "execution_count": null,
   "id": "4ad4a1ba-cf68-4255-8fcd-c79eff186152",
   "metadata": {},
   "outputs": [],
   "source": [
    "newdf.dtypes"
   ]
  },
  {
   "cell_type": "code",
   "execution_count": null,
   "id": "fcd098f2-bb83-4af7-919a-85845896b323",
   "metadata": {},
   "outputs": [],
   "source": [
    "newdf[0][0] = \"priyanshu\""
   ]
  },
  {
   "cell_type": "code",
   "execution_count": null,
   "id": "b0d7c592-f4a7-4066-9776-a629080b7272",
   "metadata": {},
   "outputs": [],
   "source": [
    "newdf.dtypes"
   ]
  },
  {
   "cell_type": "code",
   "execution_count": null,
   "id": "9c0a0d9d-7519-4d9c-9bea-ef69aa774985",
   "metadata": {},
   "outputs": [],
   "source": [
    "newdf.head()"
   ]
  },
  {
   "cell_type": "code",
   "execution_count": null,
   "id": "f858f1c0-4474-4fd1-b500-b584ba7258ca",
   "metadata": {},
   "outputs": [],
   "source": [
    "newdf.index"
   ]
  },
  {
   "cell_type": "code",
   "execution_count": null,
   "id": "d6b88553-e532-4f3e-a978-955a35dbdc82",
   "metadata": {},
   "outputs": [],
   "source": [
    "newdf.columns"
   ]
  },
  {
   "cell_type": "code",
   "execution_count": null,
   "id": "8f508e19-016d-428a-8133-c8c7bb008caa",
   "metadata": {},
   "outputs": [],
   "source": [
    "newdf.to_numpy()"
   ]
  },
  {
   "cell_type": "code",
   "execution_count": null,
   "id": "9ea27e99-08aa-4f80-bb19-2641fef07b53",
   "metadata": {},
   "outputs": [],
   "source": [
    "newdf[0][0] = 0.34356"
   ]
  },
  {
   "cell_type": "code",
   "execution_count": null,
   "id": "d96e7eb8-0214-4527-946a-42f93778ed4d",
   "metadata": {},
   "outputs": [],
   "source": [
    "newdf[3][2] = 0.2244"
   ]
  },
  {
   "cell_type": "code",
   "execution_count": null,
   "id": "b6211ea3-be04-434d-abc7-e380cefbe175",
   "metadata": {},
   "outputs": [],
   "source": [
    "newdf.dtypes"
   ]
  },
  {
   "cell_type": "code",
   "execution_count": null,
   "id": "07c5c5d1-dbe0-4f98-9237-14d2c8d51f3b",
   "metadata": {},
   "outputs": [],
   "source": [
    "newdf"
   ]
  },
  {
   "cell_type": "code",
   "execution_count": null,
   "id": "1aec9847-f3cb-424a-8074-6ffe73ffb247",
   "metadata": {},
   "outputs": [],
   "source": [
    "newdf.T"
   ]
  },
  {
   "cell_type": "code",
   "execution_count": null,
   "id": "7409abb9-4dc4-4827-afe0-ea863aef20d1",
   "metadata": {},
   "outputs": [],
   "source": []
  },
  {
   "cell_type": "code",
   "execution_count": null,
   "id": "c82d9fee-afd3-4850-bf69-e5b3022acbce",
   "metadata": {},
   "outputs": [],
   "source": []
  },
  {
   "cell_type": "code",
   "execution_count": null,
   "id": "d74e2080-51a3-4300-b612-5e0c3914e4b6",
   "metadata": {},
   "outputs": [],
   "source": []
  },
  {
   "cell_type": "code",
   "execution_count": null,
   "id": "b04b187a-cb3d-41c2-8621-f33cd87d2d87",
   "metadata": {},
   "outputs": [],
   "source": []
  },
  {
   "cell_type": "code",
   "execution_count": null,
   "id": "8e13b50c-60d3-4ec3-bf23-dd0aea76fb6a",
   "metadata": {},
   "outputs": [],
   "source": []
  },
  {
   "cell_type": "code",
   "execution_count": null,
   "id": "6fceabea-3815-4caf-8f96-2c85d935746f",
   "metadata": {},
   "outputs": [],
   "source": []
  },
  {
   "cell_type": "code",
   "execution_count": null,
   "id": "b61659fc-a9a9-4ce8-9b4f-2457fcb71f45",
   "metadata": {},
   "outputs": [],
   "source": []
  }
 ],
 "metadata": {
  "kernelspec": {
   "display_name": "Python 3 (ipykernel)",
   "language": "python",
   "name": "python3"
  },
  "language_info": {
   "codemirror_mode": {
    "name": "ipython",
    "version": 3
   },
   "file_extension": ".py",
   "mimetype": "text/x-python",
   "name": "python",
   "nbconvert_exporter": "python",
   "pygments_lexer": "ipython3",
   "version": "3.13.0"
  }
 },
 "nbformat": 4,
 "nbformat_minor": 5
}
